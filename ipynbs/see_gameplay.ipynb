{
 "cells": [
  {
   "cell_type": "code",
   "execution_count": 2,
   "metadata": {},
   "outputs": [
    {
     "name": "stderr",
     "output_type": "stream",
     "text": [
      "/usr/local/lib/python3.6/importlib/_bootstrap.py:205: RuntimeWarning: compiletime version 3.5 of module 'tensorflow.python.framework.fast_tensor_util' does not match runtime version 3.6\n",
      "  return f(*args, **kwds)\n",
      "/usr/local/lib/python3.6/site-packages/h5py/__init__.py:36: FutureWarning: Conversion of the second argument of issubdtype from `float` to `np.floating` is deprecated. In future, it will be treated as `np.float64 == np.dtype(float).type`.\n",
      "  from ._conv import register_converters as _register_converters\n"
     ]
    }
   ],
   "source": [
    "#coding:utf-8\n",
    "%reload_ext autoreload \n",
    "%autoreload 2\n",
    "import os\n",
    "import sys\n",
    "\n",
    "project_basedir = '..'\n",
    "sys.path.append(project_basedir)\n",
    "from cchess_zero import cbf\n",
    "from cchess_zero import board_visualizer\n",
    "from matplotlib import pyplot as plt\n",
    "import os\n",
    "from cchess_zero.gameboard import *\n",
    "from net import resnet\n",
    "import common\n",
    "from gameplays import gameplay,players\n",
    "from gameplays.analysis import get_km_json\n",
    "import json\n",
    "%matplotlib inline\n",
    "gpu_core = 1\n",
    "import os\n",
    "import random\n",
    "os.environ[\"CUDA_VISIBLE_DEVICES\"] = str(gpu_core)"
   ]
  },
  {
   "cell_type": "code",
   "execution_count": 3,
   "metadata": {},
   "outputs": [
    {
     "name": "stdout",
     "output_type": "stream",
     "text": [
      "2018年 10月 21日 星期日 18:18:26 CST\r\n"
     ]
    }
   ],
   "source": [
    "!date"
   ]
  },
  {
   "cell_type": "code",
   "execution_count": 4,
   "metadata": {},
   "outputs": [
    {
     "name": "stdout",
     "output_type": "stream",
     "text": [
      "-rw-rw-r-- 1 meta meta  2653 10月 12 21:18 2018-10-12_21-18-26_729_mcts-mcts_oldnet-newnet_w.cbf\r\n",
      "-rw-rw-r-- 1 meta meta  4328 10月 12 21:19 2018-10-12_21-19-22_540_mcts-mcts_oldnet-newnet_b.cbf\r\n",
      "-rw-rw-r-- 1 meta meta  3778 10月 12 21:19 2018-10-12_21-19-28_179_mcts-mcts_newnet-oldnet_b.cbf\r\n",
      "-rw-rw-r-- 1 meta meta  3178 10月 12 21:19 2018-10-12_21-19-31_866_mcts-mcts_newnet-oldnet_b.cbf\r\n",
      "-rw-rw-r-- 1 meta meta  5428 10月 12 21:20 2018-10-12_21-20-20_362_mcts-mcts_oldnet-newnet_b.cbf\r\n",
      "-rw-rw-r-- 1 meta meta  5203 10月 12 21:22 2018-10-12_21-22-00_425_mcts-mcts_oldnet-newnet_w.cbf\r\n",
      "-rw-rw-r-- 1 meta meta  4728 10月 12 21:22 2018-10-12_21-22-10_579_mcts-mcts_oldnet-newnet_b.cbf\r\n",
      "-rw-rw-r-- 1 meta meta  6128 10月 12 21:25 2018-10-12_21-25-01_623_mcts-mcts_newnet-oldnet_b.cbf\r\n",
      "-rw-rw-r-- 1 meta meta  7753 10月 12 21:25 2018-10-12_21-25-49_413_mcts-mcts_newnet-oldnet_peace.cbf\r\n",
      "-rw-rw-r-- 1 meta meta  8428 10月 12 21:30 2018-10-12_21-30-05_949_mcts-mcts_newnet-oldnet_peace.cbf\r\n"
     ]
    }
   ],
   "source": [
    "! ls -l '../data/validate/2018-10-12_19-50-14_noup/' | tail"
   ]
  },
  {
   "cell_type": "code",
   "execution_count": 63,
   "metadata": {
    "collapsed": true
   },
   "outputs": [],
   "source": [
    "path = '../data/validate/2018-10-25_04-50-14_noup/'"
   ]
  },
  {
   "cell_type": "code",
   "execution_count": 64,
   "metadata": {
    "collapsed": true
   },
   "outputs": [],
   "source": [
    "gameplays = os.listdir(path)"
   ]
  },
  {
   "cell_type": "code",
   "execution_count": 65,
   "metadata": {},
   "outputs": [
    {
     "name": "stdout",
     "output_type": "stream",
     "text": [
      "2018-10-25_05-32-04_282_mcts-mcts_newnet-oldnet_peace.cbf\n"
     ]
    }
   ],
   "source": [
    "fullpath = '{}{}'.format(path,random.choice(gameplays))\n",
    "moves = cbf.cbf2move(fullpath)\n",
    "fname = fullpath.split('/')[-1]\n",
    "print(fname)\n",
    "state = gameplay.GameState()"
   ]
  },
  {
   "cell_type": "code",
   "execution_count": null,
   "metadata": {
    "collapsed": true
   },
   "outputs": [],
   "source": [
    "from PIL import Image\n",
    "import imageio\n",
    "imgs_for_gif = []\n",
    "state = gameplay.GameState()\n",
    "statestr = 'RNBAKABNR/9/1C5C1/P1P1P1P1P/9/9/p1p1p1p1p/1c5c1/9/rnbakabnr'\n",
    "for i in moves[:]: \n",
    "    statestr = GameBoard.sim_do_action(i,statestr)\n",
    "    imgs_for_gif.append(board_visualizer.get_board_img(statestr))\n",
    "    state.do_move(i)\n",
    "imgs_for_gif = imgs_for_gif[:]\n",
    "imageio.mimsave('../data/gif/{}.gif'.format(fname[:-4]), imgs_for_gif,duration=0.5)"
   ]
  },
  {
   "cell_type": "code",
   "execution_count": null,
   "metadata": {},
   "outputs": [],
   "source": [
    "i,len(moves)"
   ]
  },
  {
   "cell_type": "code",
   "execution_count": null,
   "metadata": {
    "collapsed": true
   },
   "outputs": [],
   "source": [
    "def display_gif(fn):\n",
    "    from IPython import display\n",
    "    return display.HTML('<img src=\"{}\">'.format(fn))"
   ]
  },
  {
   "cell_type": "code",
   "execution_count": null,
   "metadata": {
    "scrolled": false
   },
   "outputs": [],
   "source": [
    "display_gif('../data/gif/{}.gif'.format(fname[:-4]))"
   ]
  },
  {
   "cell_type": "code",
   "execution_count": null,
   "metadata": {},
   "outputs": [],
   "source": [
    "plt.figure(figsize=(8,8))\n",
    "plt.imshow(board_visualizer.get_board_img(statestr))"
   ]
  },
  {
   "cell_type": "markdown",
   "metadata": {
    "collapsed": true
   },
   "source": [
    "# ANALYSIS"
   ]
  },
  {
   "cell_type": "code",
   "execution_count": null,
   "metadata": {
    "collapsed": true
   },
   "outputs": [],
   "source": [
    "network = resnet.get_model(os.path.join(project_basedir,\n",
    "    '../data/prepare_weight/2018-10-15_14-20-14_noup'[3:]),\n",
    "    common.board.create_uci_labels(),GPU_CORE=[gpu_core],FILTERS=128,NUM_RES_LAYERS=7)"
   ]
  },
  {
   "cell_type": "code",
   "execution_count": null,
   "metadata": {
    "collapsed": true
   },
   "outputs": [],
   "source": [
    "network_player = players.NetworkPlayer(state.currentplayer,network,n_playout=400,dnoise=False,c_puct=5)"
   ]
  },
  {
   "cell_type": "code",
   "execution_count": null,
   "metadata": {
    "collapsed": true
   },
   "outputs": [],
   "source": [
    "network_player.make_move(state=state,actual_move=False)"
   ]
  },
  {
   "cell_type": "code",
   "execution_count": null,
   "metadata": {
    "collapsed": true
   },
   "outputs": [],
   "source": [
    "network_player.mcts_policy._root._Q"
   ]
  },
  {
   "cell_type": "code",
   "execution_count": null,
   "metadata": {
    "collapsed": true
   },
   "outputs": [],
   "source": [
    "childs = network_player.mcts_policy._root._children\n",
    "probs = []\n",
    "for move in childs:\n",
    "    val = childs[move]\n",
    "    print(move,val._n_visits,val._P,val._Q)\n",
    "    probs.append(val._n_visits)"
   ]
  },
  {
   "cell_type": "code",
   "execution_count": null,
   "metadata": {
    "collapsed": true
   },
   "outputs": [],
   "source": [
    "plt.plot(probs)\n",
    "print(probs)"
   ]
  },
  {
   "cell_type": "code",
   "execution_count": null,
   "metadata": {
    "collapsed": true
   },
   "outputs": [],
   "source": [
    "plt.plot(probs)"
   ]
  },
  {
   "cell_type": "code",
   "execution_count": 393,
   "metadata": {},
   "outputs": [
    {
     "data": {
      "text/plain": [
       "399"
      ]
     },
     "execution_count": 393,
     "metadata": {},
     "output_type": "execute_result"
    }
   ],
   "source": [
    "sum(probs)"
   ]
  },
  {
   "cell_type": "code",
   "execution_count": 185,
   "metadata": {
    "collapsed": true
   },
   "outputs": [],
   "source": [
    "datajson = get_km_json(network_player.mcts_policy,state.statestr,depth=40)"
   ]
  },
  {
   "cell_type": "code",
   "execution_count": 196,
   "metadata": {},
   "outputs": [
    {
     "name": "stdout",
     "output_type": "stream",
     "text": [
      "mkdir: 无法创建目录\"../data/mstc_vis\": 文件已存在\r\n"
     ]
    }
   ],
   "source": [
    "!mkdir '../data/mstc_vis'"
   ]
  },
  {
   "cell_type": "code",
   "execution_count": 197,
   "metadata": {
    "collapsed": true
   },
   "outputs": [],
   "source": [
    "with open('../data/mstc_vis/sample.km','w') as whdl:\n",
    "    json.dump(datajson,whdl)"
   ]
  },
  {
   "cell_type": "code",
   "execution_count": null,
   "metadata": {
    "collapsed": true
   },
   "outputs": [],
   "source": []
  }
 ],
 "metadata": {
  "kernelspec": {
   "display_name": "tf1.3_python",
   "language": "python",
   "name": "tf1.3_kernel"
  },
  "language_info": {
   "codemirror_mode": {
    "name": "ipython",
    "version": 3
   },
   "file_extension": ".py",
   "mimetype": "text/x-python",
   "name": "python",
   "nbconvert_exporter": "python",
   "pygments_lexer": "ipython3",
   "version": "3.6.0"
  }
 },
 "nbformat": 4,
 "nbformat_minor": 2
}
