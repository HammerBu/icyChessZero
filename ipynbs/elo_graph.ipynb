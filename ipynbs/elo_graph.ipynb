{
 "cells": [
  {
   "cell_type": "code",
   "execution_count": 394,
   "metadata": {
    "collapsed": true
   },
   "outputs": [],
   "source": [
    "#coding:utf-8\n",
    "%reload_ext autoreload \n",
    "%autoreload 2\n",
    "import os\n",
    "import sys\n",
    "project_basedir = '..'\n",
    "sys.path.append(project_basedir)\n",
    "from config import conf\n",
    "import json\n",
    "from matplotlib import pyplot as plt\n",
    "import pandas as pd\n",
    "import numpy as np\n",
    "plt.style.use('ggplot')\n",
    "%matplotlib inline"
   ]
  },
  {
   "cell_type": "code",
   "execution_count": 395,
   "metadata": {
    "collapsed": true
   },
   "outputs": [],
   "source": [
    "validate_dirs = os.listdir(conf.validate_dir)\n",
    "validate_dirs = [i for i in validate_dirs if i != '_blank']\n",
    "validate_dirs = sorted(validate_dirs)\n",
    "validate_dirs = [os.path.join(conf.validate_dir,i) for i in validate_dirs]"
   ]
  },
  {
   "cell_type": "code",
   "execution_count": 396,
   "metadata": {
    "collapsed": true
   },
   "outputs": [],
   "source": [
    "def add_score(onedic,key,point):\n",
    "    onedic.setdefault(key,0)\n",
    "    onedic[key] += point\n",
    "def cal_points(gameplays):\n",
    "    point_dic = {}\n",
    "    for onegame in gameplays:\n",
    "        if onegame[-3:] != 'cbf':\n",
    "            continue\n",
    "        winner = onegame.split('_')[-1].split('.')[0]\n",
    "        player1 = onegame.split('_')[-2].split('-')[0]\n",
    "        player2 = onegame.split('_')[-2].split('-')[1]\n",
    "        assert(winner in ['w','b','peace'])\n",
    "        if winner == 'w':\n",
    "            add_score(point_dic,player1,1)\n",
    "            add_score(point_dic,player2,0)\n",
    "        elif winner == 'b':\n",
    "            add_score(point_dic,player1,0)\n",
    "            add_score(point_dic,player2,1)\n",
    "        elif winner == 'peace':\n",
    "            add_score(point_dic,player1,0.5)\n",
    "            add_score(point_dic,player2,0.5)\n",
    "            add_score(point_dic,'peace',1)\n",
    "        else:\n",
    "            raise\n",
    "    return point_dic"
   ]
  },
  {
   "cell_type": "code",
   "execution_count": 397,
   "metadata": {
    "collapsed": true
   },
   "outputs": [],
   "source": [
    "game_numbers = [0]\n",
    "game_numbers_identity = [0]\n",
    "elu_points = [0]\n",
    "validate_games = [0]\n",
    "win_rate = [0]\n",
    "dates = ['start']\n",
    "peace_rates = [0]\n",
    "delta_elo = [0]\n",
    "for one_dir in validate_dirs:\n",
    "    one_date = one_dir.split('/')[-1]\n",
    "    gameplays = os.listdir(one_dir)\n",
    "    pointcdic = cal_points(gameplays)\n",
    "    game_num = len(gameplays)\n",
    "    \n",
    "    try:\n",
    "        gn = len(os.listdir(os.path.join(conf.history_selfplay_dir,one_date.replace('_noup',''))))\n",
    "    except:\n",
    "        gn = 0\n",
    "    game_numbers.append(game_numbers[-1] + gn)\n",
    "    game_numbers_identity.append(gn)\n",
    "    old_score = pointcdic['oldnet'] / game_num\n",
    "    peace_rate = pointcdic.get('peace',0) / game_num\n",
    "    elo = np.log10(1 / old_score - 1) * 400\n",
    "    if one_date >= '2018-08-27_22-13-25' and elo < 0:\n",
    "        elo = 0\n",
    "    elu_points.append(elu_points[-1] + elo)\n",
    "    validate_games.append(len(gameplays))\n",
    "    win_rate.append(1 - old_score)\n",
    "    dates.append(one_date)\n",
    "    peace_rates.append(peace_rate)\n",
    "    delta_elo.append(elo)"
   ]
  },
  {
   "cell_type": "code",
   "execution_count": 398,
   "metadata": {},
   "outputs": [
    {
     "data": {
      "text/plain": [
       "<matplotlib.text.Text at 0x7fefdc516dd8>"
      ]
     },
     "execution_count": 398,
     "metadata": {},
     "output_type": "execute_result"
    },
    {
     "data": {
      "image/png": "[encoded data removed]",
      "text/plain": [
       "<matplotlib.figure.Figure at 0x7fefdc42f208>"
      ]
     },
     "metadata": {},
     "output_type": "display_data"
    }
   ],
   "source": [
    "plt.figure(figsize=(10,5))\n",
    "plt.plot(game_numbers,elu_points,marker='o',mec='r',mfc='w',label='elo')\n",
    "plt.plot(game_numbers,delta_elo,marker='*',ms=10,label='delta elo')\n",
    "plt.legend()\n",
    "plt.xlabel(\"Game played\")\n",
    "plt.ylabel(\"Elo\")"
   ]
  },
  {
   "cell_type": "code",
   "execution_count": 399,
   "metadata": {},
   "outputs": [
    {
     "data": {
      "text/html": [
       "<div>\n",
       "<table border=\"1\" class=\"dataframe\">\n",
       "  <thead>\n",
       "    <tr style=\"text-align: right;\">\n",
       "      <th></th>\n",
       "      <th>dates</th>\n",
       "      <th>delta_elo</th>\n",
       "      <th>elu_points</th>\n",
       "      <th>game_numbers</th>\n",
       "      <th>game_numbers_identity</th>\n",
       "      <th>peace_rates</th>\n",
       "      <th>validate_games</th>\n",
       "      <th>win_rate</th>\n",
       "    </tr>\n",
       "  </thead>\n",
       "  <tbody>\n",
       "    <tr>\n",
       "      <th>31</th>\n",
       "      <td>2018-09-01_06-13-25_noup</td>\n",
       "      <td>0.000000</td>\n",
       "      <td>1610.678531</td>\n",
       "      <td>380229</td>\n",
       "      <td>10288</td>\n",
       "      <td>0.301370</td>\n",
       "      <td>219</td>\n",
       "      <td>0.474886</td>\n",
       "    </tr>\n",
       "    <tr>\n",
       "      <th>32</th>\n",
       "      <td>2018-09-02_12-13-24_noup</td>\n",
       "      <td>3.173016</td>\n",
       "      <td>1613.851547</td>\n",
       "      <td>390373</td>\n",
       "      <td>10144</td>\n",
       "      <td>0.278539</td>\n",
       "      <td>219</td>\n",
       "      <td>0.504566</td>\n",
       "    </tr>\n",
       "    <tr>\n",
       "      <th>33</th>\n",
       "      <td>2018-09-03_17-13-25_noup</td>\n",
       "      <td>0.000000</td>\n",
       "      <td>1613.851547</td>\n",
       "      <td>400400</td>\n",
       "      <td>10027</td>\n",
       "      <td>0.228311</td>\n",
       "      <td>219</td>\n",
       "      <td>0.488584</td>\n",
       "    </tr>\n",
       "    <tr>\n",
       "      <th>34</th>\n",
       "      <td>2018-09-04_23-13-25_noup</td>\n",
       "      <td>0.000000</td>\n",
       "      <td>1613.851547</td>\n",
       "      <td>410651</td>\n",
       "      <td>10251</td>\n",
       "      <td>0.260274</td>\n",
       "      <td>219</td>\n",
       "      <td>0.472603</td>\n",
       "    </tr>\n",
       "    <tr>\n",
       "      <th>35</th>\n",
       "      <td>2018-09-06_06-13-26_noup</td>\n",
       "      <td>0.000000</td>\n",
       "      <td>1613.851547</td>\n",
       "      <td>420719</td>\n",
       "      <td>10068</td>\n",
       "      <td>0.228311</td>\n",
       "      <td>219</td>\n",
       "      <td>0.484018</td>\n",
       "    </tr>\n",
       "    <tr>\n",
       "      <th>36</th>\n",
       "      <td>2018-09-08_03-13-25_noup</td>\n",
       "      <td>0.000000</td>\n",
       "      <td>1613.851547</td>\n",
       "      <td>430751</td>\n",
       "      <td>10032</td>\n",
       "      <td>0.255708</td>\n",
       "      <td>219</td>\n",
       "      <td>0.497717</td>\n",
       "    </tr>\n",
       "    <tr>\n",
       "      <th>37</th>\n",
       "      <td>2018-09-10_06-13-25_noup</td>\n",
       "      <td>35.020327</td>\n",
       "      <td>1648.871874</td>\n",
       "      <td>440939</td>\n",
       "      <td>10188</td>\n",
       "      <td>0.223744</td>\n",
       "      <td>219</td>\n",
       "      <td>0.550228</td>\n",
       "    </tr>\n",
       "    <tr>\n",
       "      <th>38</th>\n",
       "      <td>2018-09-11_21-13-25_noup</td>\n",
       "      <td>0.000000</td>\n",
       "      <td>1648.871874</td>\n",
       "      <td>452198</td>\n",
       "      <td>11259</td>\n",
       "      <td>0.310502</td>\n",
       "      <td>219</td>\n",
       "      <td>0.497717</td>\n",
       "    </tr>\n",
       "    <tr>\n",
       "      <th>39</th>\n",
       "      <td>2018-09-12_04-13-25_noup</td>\n",
       "      <td>30.736012</td>\n",
       "      <td>1679.607886</td>\n",
       "      <td>463572</td>\n",
       "      <td>11374</td>\n",
       "      <td>0.289916</td>\n",
       "      <td>238</td>\n",
       "      <td>0.544118</td>\n",
       "    </tr>\n",
       "    <tr>\n",
       "      <th>40</th>\n",
       "      <td>2018-09-12_11-13-26_noup</td>\n",
       "      <td>36.476061</td>\n",
       "      <td>1716.083947</td>\n",
       "      <td>474848</td>\n",
       "      <td>11276</td>\n",
       "      <td>0.234310</td>\n",
       "      <td>239</td>\n",
       "      <td>0.552301</td>\n",
       "    </tr>\n",
       "  </tbody>\n",
       "</table>\n",
       "</div>"
      ],
      "text/plain": [
       "                       dates  delta_elo   elu_points  game_numbers  \\\n",
       "31  2018-09-01_06-13-25_noup   0.000000  1610.678531        380229   \n",
       "32  2018-09-02_12-13-24_noup   3.173016  1613.851547        390373   \n",
       "33  2018-09-03_17-13-25_noup   0.000000  1613.851547        400400   \n",
       "34  2018-09-04_23-13-25_noup   0.000000  1613.851547        410651   \n",
       "35  2018-09-06_06-13-26_noup   0.000000  1613.851547        420719   \n",
       "36  2018-09-08_03-13-25_noup   0.000000  1613.851547        430751   \n",
       "37  2018-09-10_06-13-25_noup  35.020327  1648.871874        440939   \n",
       "38  2018-09-11_21-13-25_noup   0.000000  1648.871874        452198   \n",
       "39  2018-09-12_04-13-25_noup  30.736012  1679.607886        463572   \n",
       "40  2018-09-12_11-13-26_noup  36.476061  1716.083947        474848   \n",
       "\n",
       "    game_numbers_identity  peace_rates  validate_games  win_rate  \n",
       "31                  10288     0.301370             219  0.474886  \n",
       "32                  10144     0.278539             219  0.504566  \n",
       "33                  10027     0.228311             219  0.488584  \n",
       "34                  10251     0.260274             219  0.472603  \n",
       "35                  10068     0.228311             219  0.484018  \n",
       "36                  10032     0.255708             219  0.497717  \n",
       "37                  10188     0.223744             219  0.550228  \n",
       "38                  11259     0.310502             219  0.497717  \n",
       "39                  11374     0.289916             238  0.544118  \n",
       "40                  11276     0.234310             239  0.552301  "
      ]
     },
     "execution_count": 399,
     "metadata": {},
     "output_type": "execute_result"
    }
   ],
   "source": [
    "pd.DataFrame({\n",
    "    'dates':dates,\n",
    "    'game_numbers':game_numbers,\n",
    "    'game_numbers_identity':game_numbers_identity,\n",
    "    'elu_points':elu_points,\n",
    "    'validate_games':validate_games,\n",
    "    'win_rate':win_rate,\n",
    "    'peace_rates':peace_rates,\n",
    "    'delta_elo':delta_elo,\n",
    "})[-10:]"
   ]
  },
  {
   "cell_type": "code",
   "execution_count": 411,
   "metadata": {},
   "outputs": [
    {
     "name": "stdout",
     "output_type": "stream",
     "text": [
      "6699\r\n"
     ]
    }
   ],
   "source": [
    "!ls -l ../data/distributed/ | wc -l"
   ]
  },
  {
   "cell_type": "code",
   "execution_count": 410,
   "metadata": {},
   "outputs": [
    {
     "name": "stdout",
     "output_type": "stream",
     "text": [
      "1272\r\n"
     ]
    }
   ],
   "source": [
    "!ls -l ../data/distributed/ | grep peace | wc -l"
   ]
  },
  {
   "cell_type": "code",
   "execution_count": 402,
   "metadata": {},
   "outputs": [
    {
     "name": "stdout",
     "output_type": "stream",
     "text": [
      "2018年 09月 12日 星期三 15:35:47 CST\r\n"
     ]
    }
   ],
   "source": [
    "! date"
   ]
  },
  {
   "cell_type": "code",
   "execution_count": 403,
   "metadata": {},
   "outputs": [
    {
     "data": {
      "text/plain": [
       "[1]"
      ]
     },
     "execution_count": 403,
     "metadata": {},
     "output_type": "execute_result"
    }
   ],
   "source": [
    "list(range(1,2))"
   ]
  },
  {
   "cell_type": "code",
   "execution_count": null,
   "metadata": {
    "collapsed": true
   },
   "outputs": [],
   "source": []
  }
 ],
 "metadata": {
  "kernelspec": {
   "display_name": "tf1.3_python",
   "language": "python",
   "name": "tf1.3_kernel"
  },
  "language_info": {
   "codemirror_mode": {
    "name": "ipython",
    "version": 3
   },
   "file_extension": ".py",
   "mimetype": "text/x-python",
   "name": "python",
   "nbconvert_exporter": "python",
   "pygments_lexer": "ipython3",
   "version": "3.6.0"
  }
 },
 "nbformat": 4,
 "nbformat_minor": 2
}
