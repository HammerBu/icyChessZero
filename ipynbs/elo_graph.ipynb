{
 "cells": [
  {
   "cell_type": "code",
   "execution_count": 1590,
   "metadata": {
    "collapsed": true
   },
   "outputs": [],
   "source": [
    "#coding:utf-8\n",
    "%reload_ext autoreload \n",
    "%autoreload 2\n",
    "import os\n",
    "import sys\n",
    "project_basedir = '..'\n",
    "sys.path.append(project_basedir)\n",
    "from config import conf\n",
    "import json\n",
    "from matplotlib import pyplot as plt\n",
    "import pandas as pd\n",
    "import numpy as np\n",
    "plt.style.use('ggplot')\n",
    "%matplotlib inline"
   ]
  },
  {
   "cell_type": "code",
   "execution_count": 1591,
   "metadata": {
    "collapsed": true
   },
   "outputs": [],
   "source": [
    "validate_dirs = os.listdir(conf.validate_dir)\n",
    "validate_dirs = [i for i in validate_dirs if i != '_blank']\n",
    "validate_dirs = sorted(validate_dirs)\n",
    "validate_dirs = [os.path.join(conf.validate_dir,i) for i in validate_dirs]"
   ]
  },
  {
   "cell_type": "code",
   "execution_count": 1592,
   "metadata": {
    "collapsed": true
   },
   "outputs": [],
   "source": [
    "def add_score(onedic,key,point):\n",
    "    onedic.setdefault(key,0)\n",
    "    onedic[key] += point\n",
    "def cal_points(gameplays):\n",
    "    point_dic = {}\n",
    "    for onegame in gameplays:\n",
    "        if onegame[-3:] != 'cbf':\n",
    "            continue\n",
    "        winner = onegame.split('_')[-1].split('.')[0]\n",
    "        player1 = onegame.split('_')[-2].split('-')[0]\n",
    "        player2 = onegame.split('_')[-2].split('-')[1]\n",
    "        assert(winner in ['w','b','peace'])\n",
    "        if winner == 'w':\n",
    "            add_score(point_dic,player1,1)\n",
    "            add_score(point_dic,player2,0)\n",
    "        elif winner == 'b':\n",
    "            add_score(point_dic,player1,0)\n",
    "            add_score(point_dic,player2,1)\n",
    "        elif winner == 'peace':\n",
    "            add_score(point_dic,player1,0.5)\n",
    "            add_score(point_dic,player2,0.5)\n",
    "            add_score(point_dic,'peace',1)\n",
    "        else:\n",
    "            raise\n",
    "    return point_dic"
   ]
  },
  {
   "cell_type": "code",
   "execution_count": 1593,
   "metadata": {
    "collapsed": true
   },
   "outputs": [],
   "source": [
    "game_numbers = [0]\n",
    "game_numbers_identity = [0]\n",
    "elu_points = [0]\n",
    "validate_games = [0]\n",
    "win_rate = [0]\n",
    "dates = ['start']\n",
    "peace_rates = [0]\n",
    "delta_elo = [0]\n",
    "for one_dir in validate_dirs:\n",
    "    one_date = one_dir.split('/')[-1]\n",
    "    gameplays = os.listdir(one_dir)\n",
    "    pointcdic = cal_points(gameplays)\n",
    "    game_num = len(gameplays)\n",
    "    \n",
    "    try:\n",
    "        gn = len(os.listdir(os.path.join(conf.history_selfplay_dir,one_date.replace('_noup',''))))\n",
    "    except:\n",
    "        gn = 0\n",
    "    game_numbers.append(game_numbers[-1] + gn)\n",
    "    game_numbers_identity.append(gn)\n",
    "    \n",
    "    old_score = pointcdic.get('oldnet',0) / game_num\n",
    "    peace_rate = pointcdic.get('peace',0) / game_num\n",
    "    if old_score == 0:\n",
    "        continue\n",
    "    elo = np.log10(1 / old_score - 1) * 400\n",
    "    if one_date >= '2018-08-27_22-13-25' and elo < 0:\n",
    "        elo = 0\n",
    "    elu_points.append(elu_points[-1] + elo)\n",
    "    validate_games.append(len(gameplays))\n",
    "    win_rate.append(1 - old_score)\n",
    "    dates.append(one_date)\n",
    "    peace_rates.append(peace_rate)\n",
    "    delta_elo.append(elo)"
   ]
  },
  {
   "cell_type": "code",
   "execution_count": 1594,
   "metadata": {},
   "outputs": [
    {
     "data": {
      "text/plain": [
       "<matplotlib.text.Text at 0x7fefd4b627f0>"
      ]
     },
     "execution_count": 1594,
     "metadata": {},
     "output_type": "execute_result"
    },
    {
     "data": {
      "image/png": "[encoded data removed]",
      "text/plain": [
       "<matplotlib.figure.Figure at 0x7fefd4bcbac8>"
      ]
     },
     "metadata": {},
     "output_type": "display_data"
    }
   ],
   "source": [
    "plt.figure(figsize=(10,5))\n",
    "plt.plot(game_numbers,elu_points,marker='o',mec='r',mfc='w',label='elo')\n",
    "plt.plot(game_numbers,delta_elo,marker='*',ms=10,label='delta elo')\n",
    "plt.legend()\n",
    "plt.xlabel(\"Game played\")\n",
    "plt.ylabel(\"Elo\")"
   ]
  },
  {
   "cell_type": "code",
   "execution_count": 1595,
   "metadata": {},
   "outputs": [
    {
     "data": {
      "text/html": [
       "<div>\n",
       "<table border=\"1\" class=\"dataframe\">\n",
       "  <thead>\n",
       "    <tr style=\"text-align: right;\">\n",
       "      <th></th>\n",
       "      <th>dates</th>\n",
       "      <th>delta_elo</th>\n",
       "      <th>elu_points</th>\n",
       "      <th>game_numbers</th>\n",
       "      <th>game_numbers_identity</th>\n",
       "      <th>peace_rates</th>\n",
       "      <th>validate_games</th>\n",
       "      <th>win_rate</th>\n",
       "      <th>上位情况</th>\n",
       "    </tr>\n",
       "  </thead>\n",
       "  <tbody>\n",
       "    <tr>\n",
       "      <th>48</th>\n",
       "      <td>2018-09-14_18-13-25_noup</td>\n",
       "      <td>0.000000</td>\n",
       "      <td>1874.778249</td>\n",
       "      <td>562775</td>\n",
       "      <td>11615</td>\n",
       "      <td>0.041841</td>\n",
       "      <td>239</td>\n",
       "      <td>0.489540</td>\n",
       "      <td>pending</td>\n",
       "    </tr>\n",
       "    <tr>\n",
       "      <th>49</th>\n",
       "      <td>2018-09-14_22-20-25_noup</td>\n",
       "      <td>0.000000</td>\n",
       "      <td>1874.778249</td>\n",
       "      <td>573061</td>\n",
       "      <td>10286</td>\n",
       "      <td>0.033898</td>\n",
       "      <td>236</td>\n",
       "      <td>0.436441</td>\n",
       "      <td>pending</td>\n",
       "    </tr>\n",
       "    <tr>\n",
       "      <th>50</th>\n",
       "      <td>2018-09-15_00-20-25_noup</td>\n",
       "      <td>0.000000</td>\n",
       "      <td>1874.778249</td>\n",
       "      <td>583815</td>\n",
       "      <td>10754</td>\n",
       "      <td>0.033613</td>\n",
       "      <td>238</td>\n",
       "      <td>0.474790</td>\n",
       "      <td>pending</td>\n",
       "    </tr>\n",
       "    <tr>\n",
       "      <th>51</th>\n",
       "      <td>2018-09-15_02-20-25_noup</td>\n",
       "      <td>1.459822</td>\n",
       "      <td>1876.238071</td>\n",
       "      <td>594717</td>\n",
       "      <td>10902</td>\n",
       "      <td>0.029412</td>\n",
       "      <td>238</td>\n",
       "      <td>0.502101</td>\n",
       "      <td>上位</td>\n",
       "    </tr>\n",
       "    <tr>\n",
       "      <th>52</th>\n",
       "      <td>2018-09-15_04-20-25_noup</td>\n",
       "      <td>0.000000</td>\n",
       "      <td>1876.238071</td>\n",
       "      <td>605515</td>\n",
       "      <td>10798</td>\n",
       "      <td>0.021097</td>\n",
       "      <td>237</td>\n",
       "      <td>0.466245</td>\n",
       "      <td>pending</td>\n",
       "    </tr>\n",
       "    <tr>\n",
       "      <th>53</th>\n",
       "      <td>2018-09-15_06-10-25_noup</td>\n",
       "      <td>0.000000</td>\n",
       "      <td>1876.238071</td>\n",
       "      <td>616268</td>\n",
       "      <td>10753</td>\n",
       "      <td>0.016736</td>\n",
       "      <td>239</td>\n",
       "      <td>0.456067</td>\n",
       "      <td>pending</td>\n",
       "    </tr>\n",
       "    <tr>\n",
       "      <th>54</th>\n",
       "      <td>2018-09-15_08-00-25_noup</td>\n",
       "      <td>0.000000</td>\n",
       "      <td>1876.238071</td>\n",
       "      <td>627177</td>\n",
       "      <td>10909</td>\n",
       "      <td>0.033473</td>\n",
       "      <td>239</td>\n",
       "      <td>0.485356</td>\n",
       "      <td>pending</td>\n",
       "    </tr>\n",
       "    <tr>\n",
       "      <th>55</th>\n",
       "      <td>2018-09-15_10-00-26_noup</td>\n",
       "      <td>44.216366</td>\n",
       "      <td>1920.454438</td>\n",
       "      <td>638022</td>\n",
       "      <td>10845</td>\n",
       "      <td>0.021097</td>\n",
       "      <td>237</td>\n",
       "      <td>0.563291</td>\n",
       "      <td>上位</td>\n",
       "    </tr>\n",
       "    <tr>\n",
       "      <th>56</th>\n",
       "      <td>2018-09-15_12-00-25_noup</td>\n",
       "      <td>0.000000</td>\n",
       "      <td>1920.454438</td>\n",
       "      <td>648699</td>\n",
       "      <td>10677</td>\n",
       "      <td>0.016736</td>\n",
       "      <td>239</td>\n",
       "      <td>0.489540</td>\n",
       "      <td>pending</td>\n",
       "    </tr>\n",
       "    <tr>\n",
       "      <th>57</th>\n",
       "      <td>2018-09-15_14-00-25_noup</td>\n",
       "      <td>0.000000</td>\n",
       "      <td>1920.454438</td>\n",
       "      <td>659270</td>\n",
       "      <td>10571</td>\n",
       "      <td>0.000000</td>\n",
       "      <td>54</td>\n",
       "      <td>0.425926</td>\n",
       "      <td>pending</td>\n",
       "    </tr>\n",
       "  </tbody>\n",
       "</table>\n",
       "</div>"
      ],
      "text/plain": [
       "                       dates  delta_elo   elu_points  game_numbers  \\\n",
       "48  2018-09-14_18-13-25_noup   0.000000  1874.778249        562775   \n",
       "49  2018-09-14_22-20-25_noup   0.000000  1874.778249        573061   \n",
       "50  2018-09-15_00-20-25_noup   0.000000  1874.778249        583815   \n",
       "51  2018-09-15_02-20-25_noup   1.459822  1876.238071        594717   \n",
       "52  2018-09-15_04-20-25_noup   0.000000  1876.238071        605515   \n",
       "53  2018-09-15_06-10-25_noup   0.000000  1876.238071        616268   \n",
       "54  2018-09-15_08-00-25_noup   0.000000  1876.238071        627177   \n",
       "55  2018-09-15_10-00-26_noup  44.216366  1920.454438        638022   \n",
       "56  2018-09-15_12-00-25_noup   0.000000  1920.454438        648699   \n",
       "57  2018-09-15_14-00-25_noup   0.000000  1920.454438        659270   \n",
       "\n",
       "    game_numbers_identity  peace_rates  validate_games  win_rate     上位情况  \n",
       "48                  11615     0.041841             239  0.489540  pending  \n",
       "49                  10286     0.033898             236  0.436441  pending  \n",
       "50                  10754     0.033613             238  0.474790  pending  \n",
       "51                  10902     0.029412             238  0.502101       上位  \n",
       "52                  10798     0.021097             237  0.466245  pending  \n",
       "53                  10753     0.016736             239  0.456067  pending  \n",
       "54                  10909     0.033473             239  0.485356  pending  \n",
       "55                  10845     0.021097             237  0.563291       上位  \n",
       "56                  10677     0.016736             239  0.489540  pending  \n",
       "57                  10571     0.000000              54  0.425926  pending  "
      ]
     },
     "execution_count": 1595,
     "metadata": {},
     "output_type": "execute_result"
    }
   ],
   "source": [
    "pd.DataFrame({\n",
    "    'dates':dates,\n",
    "    'game_numbers':game_numbers,\n",
    "    'game_numbers_identity':game_numbers_identity,\n",
    "    'elu_points':elu_points,\n",
    "    'validate_games':validate_games,\n",
    "    'win_rate':win_rate,\n",
    "    'peace_rates':peace_rates,\n",
    "    'delta_elo':delta_elo,\n",
    "    '上位情况':[('pending' if i == 0 else \"上位\") for i in delta_elo]\n",
    "})[-10:]"
   ]
  },
  {
   "cell_type": "code",
   "execution_count": 1596,
   "metadata": {},
   "outputs": [
    {
     "name": "stdout",
     "output_type": "stream",
     "text": [
      "2497\r\n"
     ]
    }
   ],
   "source": [
    "!ls -l ../data/distributed/ | wc -l "
   ]
  },
  {
   "cell_type": "code",
   "execution_count": 1597,
   "metadata": {},
   "outputs": [
    {
     "name": "stdout",
     "output_type": "stream",
     "text": [
      "1\r\n"
     ]
    }
   ],
   "source": [
    "!ls -l ../data/distributed/ | grep peace | wc -l"
   ]
  },
  {
   "cell_type": "code",
   "execution_count": 1598,
   "metadata": {},
   "outputs": [
    {
     "name": "stdout",
     "output_type": "stream",
     "text": [
      "2018年 09月 15日 星期六 14:28:24 CST\r\n"
     ]
    }
   ],
   "source": [
    "! date"
   ]
  },
  {
   "cell_type": "code",
   "execution_count": 1599,
   "metadata": {},
   "outputs": [
    {
     "data": {
      "text/plain": [
       "[1]"
      ]
     },
     "execution_count": 1599,
     "metadata": {},
     "output_type": "execute_result"
    }
   ],
   "source": [
    "list(range(1,2))"
   ]
  },
  {
   "cell_type": "code",
   "execution_count": null,
   "metadata": {
    "collapsed": true
   },
   "outputs": [],
   "source": []
  }
 ],
 "metadata": {
  "kernelspec": {
   "display_name": "tf1.3_python",
   "language": "python",
   "name": "tf1.3_kernel"
  },
  "language_info": {
   "codemirror_mode": {
    "name": "ipython",
    "version": 3
   },
   "file_extension": ".py",
   "mimetype": "text/x-python",
   "name": "python",
   "nbconvert_exporter": "python",
   "pygments_lexer": "ipython3",
   "version": "3.6.0"
  }
 },
 "nbformat": 4,
 "nbformat_minor": 2
}
