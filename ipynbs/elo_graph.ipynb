{
 "cells": [
  {
   "cell_type": "code",
   "execution_count": 1835,
   "metadata": {
    "collapsed": true
   },
   "outputs": [],
   "source": [
    "#coding:utf-8\n",
    "%reload_ext autoreload \n",
    "%autoreload 2\n",
    "import os\n",
    "import sys\n",
    "project_basedir = '..'\n",
    "sys.path.append(project_basedir)\n",
    "from config import conf\n",
    "import json\n",
    "from matplotlib import pyplot as plt\n",
    "import pandas as pd\n",
    "import numpy as np\n",
    "plt.style.use('ggplot')\n",
    "%matplotlib inline"
   ]
  },
  {
   "cell_type": "code",
   "execution_count": 1836,
   "metadata": {
    "collapsed": true
   },
   "outputs": [],
   "source": [
    "validate_dirs = os.listdir(conf.validate_dir)\n",
    "validate_dirs = [i for i in validate_dirs if i != '_blank']\n",
    "validate_dirs = sorted(validate_dirs)\n",
    "validate_dirs = [os.path.join(conf.validate_dir,i) for i in validate_dirs]"
   ]
  },
  {
   "cell_type": "code",
   "execution_count": 1837,
   "metadata": {
    "collapsed": true
   },
   "outputs": [],
   "source": [
    "def add_score(onedic,key,point):\n",
    "    onedic.setdefault(key,0)\n",
    "    onedic[key] += point\n",
    "def cal_points(gameplays):\n",
    "    point_dic = {}\n",
    "    for onegame in gameplays:\n",
    "        if onegame[-3:] != 'cbf':\n",
    "            continue\n",
    "        winner = onegame.split('_')[-1].split('.')[0]\n",
    "        player1 = onegame.split('_')[-2].split('-')[0]\n",
    "        player2 = onegame.split('_')[-2].split('-')[1]\n",
    "        assert(winner in ['w','b','peace'])\n",
    "        if winner == 'w':\n",
    "            add_score(point_dic,player1,1)\n",
    "            add_score(point_dic,player2,0)\n",
    "        elif winner == 'b':\n",
    "            add_score(point_dic,player1,0)\n",
    "            add_score(point_dic,player2,1)\n",
    "        elif winner == 'peace':\n",
    "            add_score(point_dic,player1,0.5)\n",
    "            add_score(point_dic,player2,0.5)\n",
    "            add_score(point_dic,'peace',1)\n",
    "        else:\n",
    "            raise\n",
    "    return point_dic"
   ]
  },
  {
   "cell_type": "code",
   "execution_count": 1838,
   "metadata": {},
   "outputs": [],
   "source": [
    "game_numbers = [0]\n",
    "game_numbers_identity = [0]\n",
    "elu_points = [0]\n",
    "validate_games = [0]\n",
    "win_rate = [0]\n",
    "dates = ['start']\n",
    "peace_rates = [0]\n",
    "delta_elo = [0]\n",
    "for one_dir in validate_dirs:\n",
    "    one_date = one_dir.split('/')[-1]\n",
    "    gameplays = os.listdir(one_dir)\n",
    "    pointcdic = cal_points(gameplays)\n",
    "    game_num = len(gameplays)\n",
    "    \n",
    "    try:\n",
    "        gn = len(os.listdir(os.path.join(conf.history_selfplay_dir,one_date.replace('_noup',''))))\n",
    "    except:\n",
    "        gn = 0\n",
    "    game_numbers.append(game_numbers[-1] + gn)\n",
    "    game_numbers_identity.append(gn)\n",
    "    \n",
    "    old_score = pointcdic.get('oldnet',0) / game_num\n",
    "    peace_rate = pointcdic.get('peace',0) / game_num\n",
    "    if old_score == 0:\n",
    "        continue\n",
    "    elo = np.log10(1 / old_score - 1) * 400\n",
    "    if one_date >= '2018-08-27_22-13-25' and one_date < '2018-09-16_17-00-24' and elo < 0:\n",
    "        elo = 0\n",
    "    #elif one_date >= '2018-09-16_17-00-24' and elo < -100:\n",
    "    #    elo = 0\n",
    "    elu_points.append(elu_points[-1] + elo)\n",
    "    validate_games.append(len(gameplays))\n",
    "    win_rate.append(1 - old_score)\n",
    "    dates.append(one_date)\n",
    "    peace_rates.append(peace_rate)\n",
    "    delta_elo.append(elo)"
   ]
  },
  {
   "cell_type": "code",
   "execution_count": 1839,
   "metadata": {},
   "outputs": [
    {
     "data": {
      "text/plain": [
       "<matplotlib.text.Text at 0x7fefd3bb1f98>"
      ]
     },
     "execution_count": 1839,
     "metadata": {},
     "output_type": "execute_result"
    },
    {
     "data": {
      "image/png": "[encoded data removed]",
      "text/plain": [
       "<matplotlib.figure.Figure at 0x7fefd3c0bac8>"
      ]
     },
     "metadata": {},
     "output_type": "display_data"
    }
   ],
   "source": [
    "plt.figure(figsize=(10,5))\n",
    "plt.plot(game_numbers,elu_points,marker='o',mec='r',mfc='w',label='elo')\n",
    "plt.plot(game_numbers,delta_elo,marker='*',ms=10,label='delta elo')\n",
    "plt.legend()\n",
    "plt.xlabel(\"Game played\")\n",
    "plt.ylabel(\"Elo\")"
   ]
  },
  {
   "cell_type": "code",
   "execution_count": 1840,
   "metadata": {},
   "outputs": [
    {
     "data": {
      "text/html": [
       "<div>\n",
       "<table border=\"1\" class=\"dataframe\">\n",
       "  <thead>\n",
       "    <tr style=\"text-align: right;\">\n",
       "      <th></th>\n",
       "      <th>dates</th>\n",
       "      <th>delta_elo</th>\n",
       "      <th>elu_points</th>\n",
       "      <th>game_numbers</th>\n",
       "      <th>game_numbers_identity</th>\n",
       "      <th>peace_rates</th>\n",
       "      <th>validate_games</th>\n",
       "      <th>win_rate</th>\n",
       "      <th>上位情况</th>\n",
       "    </tr>\n",
       "  </thead>\n",
       "  <tbody>\n",
       "    <tr>\n",
       "      <th>60</th>\n",
       "      <td>2018-09-15_22-40-25_noup</td>\n",
       "      <td>4.361345</td>\n",
       "      <td>1957.160304</td>\n",
       "      <td>707026</td>\n",
       "      <td>10756</td>\n",
       "      <td>0.008368</td>\n",
       "      <td>239</td>\n",
       "      <td>0.506276</td>\n",
       "      <td>上位</td>\n",
       "    </tr>\n",
       "    <tr>\n",
       "      <th>61</th>\n",
       "      <td>2018-09-16_00-40-26_noup</td>\n",
       "      <td>0.000000</td>\n",
       "      <td>1957.160304</td>\n",
       "      <td>717521</td>\n",
       "      <td>10495</td>\n",
       "      <td>0.008368</td>\n",
       "      <td>239</td>\n",
       "      <td>0.443515</td>\n",
       "      <td>pending</td>\n",
       "    </tr>\n",
       "    <tr>\n",
       "      <th>62</th>\n",
       "      <td>2018-09-16_02-50-25_noup</td>\n",
       "      <td>7.269588</td>\n",
       "      <td>1964.429892</td>\n",
       "      <td>728245</td>\n",
       "      <td>10724</td>\n",
       "      <td>0.016736</td>\n",
       "      <td>239</td>\n",
       "      <td>0.510460</td>\n",
       "      <td>上位</td>\n",
       "    </tr>\n",
       "    <tr>\n",
       "      <th>63</th>\n",
       "      <td>2018-09-16_05-00-25_noup</td>\n",
       "      <td>0.000000</td>\n",
       "      <td>1964.429892</td>\n",
       "      <td>738893</td>\n",
       "      <td>10648</td>\n",
       "      <td>0.029289</td>\n",
       "      <td>239</td>\n",
       "      <td>0.474895</td>\n",
       "      <td>pending</td>\n",
       "    </tr>\n",
       "    <tr>\n",
       "      <th>64</th>\n",
       "      <td>2018-09-16_07-10-25_noup</td>\n",
       "      <td>0.000000</td>\n",
       "      <td>1964.429892</td>\n",
       "      <td>749293</td>\n",
       "      <td>10400</td>\n",
       "      <td>0.020921</td>\n",
       "      <td>239</td>\n",
       "      <td>0.453975</td>\n",
       "      <td>pending</td>\n",
       "    </tr>\n",
       "    <tr>\n",
       "      <th>65</th>\n",
       "      <td>2018-09-16_09-20-26_noup</td>\n",
       "      <td>0.000000</td>\n",
       "      <td>1964.429892</td>\n",
       "      <td>760158</td>\n",
       "      <td>10865</td>\n",
       "      <td>0.012712</td>\n",
       "      <td>236</td>\n",
       "      <td>0.463983</td>\n",
       "      <td>pending</td>\n",
       "    </tr>\n",
       "    <tr>\n",
       "      <th>66</th>\n",
       "      <td>2018-09-16_11-30-25_noup</td>\n",
       "      <td>0.000000</td>\n",
       "      <td>1964.429892</td>\n",
       "      <td>770973</td>\n",
       "      <td>10815</td>\n",
       "      <td>0.008403</td>\n",
       "      <td>238</td>\n",
       "      <td>0.428571</td>\n",
       "      <td>pending</td>\n",
       "    </tr>\n",
       "    <tr>\n",
       "      <th>67</th>\n",
       "      <td>2018-09-16_13-40-25_noup</td>\n",
       "      <td>42.545990</td>\n",
       "      <td>2006.975882</td>\n",
       "      <td>781280</td>\n",
       "      <td>10307</td>\n",
       "      <td>0.021008</td>\n",
       "      <td>238</td>\n",
       "      <td>0.560924</td>\n",
       "      <td>上位</td>\n",
       "    </tr>\n",
       "    <tr>\n",
       "      <th>68</th>\n",
       "      <td>2018-09-16_16-00-24_noup</td>\n",
       "      <td>0.000000</td>\n",
       "      <td>2006.975882</td>\n",
       "      <td>791373</td>\n",
       "      <td>10093</td>\n",
       "      <td>0.008368</td>\n",
       "      <td>239</td>\n",
       "      <td>0.430962</td>\n",
       "      <td>pending</td>\n",
       "    </tr>\n",
       "    <tr>\n",
       "      <th>69</th>\n",
       "      <td>2018-09-16_18-40-26_noup</td>\n",
       "      <td>29.389356</td>\n",
       "      <td>2036.365238</td>\n",
       "      <td>801867</td>\n",
       "      <td>10494</td>\n",
       "      <td>0.021097</td>\n",
       "      <td>237</td>\n",
       "      <td>0.542194</td>\n",
       "      <td>上位</td>\n",
       "    </tr>\n",
       "  </tbody>\n",
       "</table>\n",
       "</div>"
      ],
      "text/plain": [
       "                       dates  delta_elo   elu_points  game_numbers  \\\n",
       "60  2018-09-15_22-40-25_noup   4.361345  1957.160304        707026   \n",
       "61  2018-09-16_00-40-26_noup   0.000000  1957.160304        717521   \n",
       "62  2018-09-16_02-50-25_noup   7.269588  1964.429892        728245   \n",
       "63  2018-09-16_05-00-25_noup   0.000000  1964.429892        738893   \n",
       "64  2018-09-16_07-10-25_noup   0.000000  1964.429892        749293   \n",
       "65  2018-09-16_09-20-26_noup   0.000000  1964.429892        760158   \n",
       "66  2018-09-16_11-30-25_noup   0.000000  1964.429892        770973   \n",
       "67  2018-09-16_13-40-25_noup  42.545990  2006.975882        781280   \n",
       "68  2018-09-16_16-00-24_noup   0.000000  2006.975882        791373   \n",
       "69  2018-09-16_18-40-26_noup  29.389356  2036.365238        801867   \n",
       "\n",
       "    game_numbers_identity  peace_rates  validate_games  win_rate     上位情况  \n",
       "60                  10756     0.008368             239  0.506276       上位  \n",
       "61                  10495     0.008368             239  0.443515  pending  \n",
       "62                  10724     0.016736             239  0.510460       上位  \n",
       "63                  10648     0.029289             239  0.474895  pending  \n",
       "64                  10400     0.020921             239  0.453975  pending  \n",
       "65                  10865     0.012712             236  0.463983  pending  \n",
       "66                  10815     0.008403             238  0.428571  pending  \n",
       "67                  10307     0.021008             238  0.560924       上位  \n",
       "68                  10093     0.008368             239  0.430962  pending  \n",
       "69                  10494     0.021097             237  0.542194       上位  "
      ]
     },
     "execution_count": 1840,
     "metadata": {},
     "output_type": "execute_result"
    }
   ],
   "source": [
    "pd.DataFrame({\n",
    "    'dates':dates,\n",
    "    'game_numbers':game_numbers,\n",
    "    'game_numbers_identity':game_numbers_identity,\n",
    "    'elu_points':elu_points,\n",
    "    'validate_games':validate_games,\n",
    "    'win_rate':win_rate,\n",
    "    'peace_rates':peace_rates,\n",
    "    'delta_elo':delta_elo,\n",
    "    '上位情况':[('pending' if i == 0 else \"上位\") for i in delta_elo]\n",
    "})[-10:]"
   ]
  },
  {
   "cell_type": "code",
   "execution_count": 1841,
   "metadata": {},
   "outputs": [
    {
     "name": "stdout",
     "output_type": "stream",
     "text": [
      "6738\r\n"
     ]
    }
   ],
   "source": [
    "!ls -l ../data/distributed/ | wc -l "
   ]
  },
  {
   "cell_type": "code",
   "execution_count": 1842,
   "metadata": {},
   "outputs": [
    {
     "name": "stdout",
     "output_type": "stream",
     "text": [
      "1\r\n"
     ]
    }
   ],
   "source": [
    "!ls -l ../data/distributed/ | grep peace | wc -l"
   ]
  },
  {
   "cell_type": "code",
   "execution_count": 1843,
   "metadata": {},
   "outputs": [
    {
     "name": "stdout",
     "output_type": "stream",
     "text": [
      "2018年 09月 16日 星期日 20:19:35 CST\r\n"
     ]
    }
   ],
   "source": [
    "! date"
   ]
  },
  {
   "cell_type": "code",
   "execution_count": 1844,
   "metadata": {},
   "outputs": [
    {
     "data": {
      "text/plain": [
       "[1]"
      ]
     },
     "execution_count": 1844,
     "metadata": {},
     "output_type": "execute_result"
    }
   ],
   "source": [
    "list(range(1,2))"
   ]
  },
  {
   "cell_type": "code",
   "execution_count": null,
   "metadata": {
    "collapsed": true
   },
   "outputs": [],
   "source": []
  }
 ],
 "metadata": {
  "kernelspec": {
   "display_name": "tf1.3_python",
   "language": "python",
   "name": "tf1.3_kernel"
  },
  "language_info": {
   "codemirror_mode": {
    "name": "ipython",
    "version": 3
   },
   "file_extension": ".py",
   "mimetype": "text/x-python",
   "name": "python",
   "nbconvert_exporter": "python",
   "pygments_lexer": "ipython3",
   "version": "3.6.0"
  }
 },
 "nbformat": 4,
 "nbformat_minor": 2
}
